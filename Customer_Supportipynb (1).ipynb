{
  "nbformat": 4,
  "nbformat_minor": 0,
  "metadata": {
    "colab": {
      "provenance": []
    },
    "kernelspec": {
      "name": "python3",
      "display_name": "Python 3"
    },
    "language_info": {
      "name": "python"
    }
  },
  "cells": [
    {
      "cell_type": "code",
      "source": [
        "# Step 0: Install OpenAI package (only needed once per session)\n",
        "!pip install openai\n",
        "\n",
        "# Step 1: Import library\n",
        "from openai import OpenAI\n",
        "\n",
        "# Step 2: Initialize client with your API key\n",
        "client = OpenAI(api_key=\"\")  # ← Replace with your OpenAI key\n",
        "\n",
        "# Step 3: Main task prompt\n",
        "task_prompt = \"Build a prompt chain to simulate a customer service conversation and have the AI go through multiple steps or chains to solve a customer’s issues.\"\n",
        "\n",
        "# Step 4: Step-by-step chained prompts\n",
        "conversation = [\n",
        "    {\"role\": \"system\", \"content\": \"You are a nice and efficient customer service AI assistant.\"},\n",
        "    {\"role\": \"user\", \"content\": \"Hello, my wifi is not working properly.\"}\n",
        "]\n",
        "\n",
        "# Step 5: Step 1 – Greeting and problem acknowledgment\n",
        "step1 = client.chat.completions.create(\n",
        "    model=\"gpt-4-turbo\",\n",
        "    messages=conversation + [\n",
        "        {\"role\": \"user\", \"content\": \"Please greet the customer and acknowledge the issue politely.\"}\n",
        "    ]\n",
        ")\n",
        "print(\"Step 1 - AI:\", step1.choices[0].message.content)\n",
        "\n",
        "# Step 6: Step 2 – Ask follow-up questions\n",
        "step2 = client.chat.completions.create(\n",
        "    model=\"gpt-4-turbo\",\n",
        "    messages=conversation + [\n",
        "        {\"role\": \"assistant\", \"content\": step1.choices[0].message.content},\n",
        "        {\"role\": \"user\", \"content\": \"Ask one follow-up question to gather more details about the issue.\"}\n",
        "    ]\n",
        ")\n",
        "print(\"Step 2 - AI:\", step2.choices[0].message.content)\n",
        "\n",
        "# Step 7: Step 3 – Provide a possible solution\n",
        "step3 = client.chat.completions.create(\n",
        "    model=\"gpt-4-turbo\",\n",
        "    messages=conversation + [\n",
        "        {\"role\": \"assistant\", \"content\": step2.choices[0].message.content},\n",
        "        {\"role\": \"user\", \"content\": \"Now suggest one possible solution based on the issue.\"}\n",
        "    ]\n",
        ")\n",
        "print(\"Step 3 - AI:\", step3.choices[0].message.content)\n",
        "\n",
        "# Step 8: Step 4 – Confirm satisfaction\n",
        "step4 = client.chat.completions.create(\n",
        "    model=\"gpt-4-turbo\",\n",
        "    messages=conversation + [\n",
        "        {\"role\": \"assistant\", \"content\": step3.choices[0].message.content},\n",
        "        {\"role\": \"user\", \"content\": \"Ask the customer if the problem is resolved or if they need further help.\"}\n",
        "    ]\n",
        ")\n",
        "print(\"Step 4 - AI:\", step4.choices[0].message.content)\n"
      ],
      "metadata": {
        "colab": {
          "base_uri": "https://localhost:8080/"
        },
        "id": "qaO2WFcxea5o",
        "outputId": "fdea7a6c-db3a-4cf8-cb7f-3117d119ced1"
      },
      "execution_count": 6,
      "outputs": [
        {
          "output_type": "stream",
          "name": "stdout",
          "text": [
            "Requirement already satisfied: openai in /usr/local/lib/python3.12/dist-packages (1.109.1)\n",
            "Requirement already satisfied: anyio<5,>=3.5.0 in /usr/local/lib/python3.12/dist-packages (from openai) (4.11.0)\n",
            "Requirement already satisfied: distro<2,>=1.7.0 in /usr/local/lib/python3.12/dist-packages (from openai) (1.9.0)\n",
            "Requirement already satisfied: httpx<1,>=0.23.0 in /usr/local/lib/python3.12/dist-packages (from openai) (0.28.1)\n",
            "Requirement already satisfied: jiter<1,>=0.4.0 in /usr/local/lib/python3.12/dist-packages (from openai) (0.11.0)\n",
            "Requirement already satisfied: pydantic<3,>=1.9.0 in /usr/local/lib/python3.12/dist-packages (from openai) (2.11.9)\n",
            "Requirement already satisfied: sniffio in /usr/local/lib/python3.12/dist-packages (from openai) (1.3.1)\n",
            "Requirement already satisfied: tqdm>4 in /usr/local/lib/python3.12/dist-packages (from openai) (4.67.1)\n",
            "Requirement already satisfied: typing-extensions<5,>=4.11 in /usr/local/lib/python3.12/dist-packages (from openai) (4.15.0)\n",
            "Requirement already satisfied: idna>=2.8 in /usr/local/lib/python3.12/dist-packages (from anyio<5,>=3.5.0->openai) (3.10)\n",
            "Requirement already satisfied: certifi in /usr/local/lib/python3.12/dist-packages (from httpx<1,>=0.23.0->openai) (2025.8.3)\n",
            "Requirement already satisfied: httpcore==1.* in /usr/local/lib/python3.12/dist-packages (from httpx<1,>=0.23.0->openai) (1.0.9)\n",
            "Requirement already satisfied: h11>=0.16 in /usr/local/lib/python3.12/dist-packages (from httpcore==1.*->httpx<1,>=0.23.0->openai) (0.16.0)\n",
            "Requirement already satisfied: annotated-types>=0.6.0 in /usr/local/lib/python3.12/dist-packages (from pydantic<3,>=1.9.0->openai) (0.7.0)\n",
            "Requirement already satisfied: pydantic-core==2.33.2 in /usr/local/lib/python3.12/dist-packages (from pydantic<3,>=1.9.0->openai) (2.33.2)\n",
            "Requirement already satisfied: typing-inspection>=0.4.0 in /usr/local/lib/python3.12/dist-packages (from pydantic<3,>=1.9.0->openai) (0.4.2)\n",
            "Step 1 - AI: Hello! I'm sorry to hear you're experiencing issues with your internet. Let's see what we can do to resolve this as quickly as possible. Could you describe what specific problems you are encountering?\n",
            "Step 2 - AI: Certainly! Could you tell me if the issue is with the connection being slow, intermittent, or if there is no connection at all?\n",
            "Step 3 - AI: If your internet connection is slow, you can try restarting your modem and router. Here’s how to do it:\n",
            "\n",
            "1. Turn off your computer.\n",
            "2. Unplug the modem and router from the power source.\n",
            "3. Wait at least 30 seconds. This step allows the equipment to reset which can help clear up connection issues.\n",
            "4. Plug the modem back into the power source and wait for it to fully boot up and connect. This might take a couple of minutes.\n",
            "5. Plug the router back in and wait for it to fully boot up.\n",
            "6. Turn your computer on and check your internet connection.\n",
            "\n",
            "If the problem persists after this, there may be other issues affecting the speed, such as too many devices connected to your network or an issue with your service provider.\n",
            "Step 4 - AI: Was restarting your modem and router successful in resolving your internet issue, or do you still need further assistance?\n"
          ]
        }
      ]
    }
  ]
}