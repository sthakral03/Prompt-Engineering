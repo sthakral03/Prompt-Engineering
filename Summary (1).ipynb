{
  "nbformat": 4,
  "nbformat_minor": 0,
  "metadata": {
    "colab": {
      "provenance": []
    },
    "kernelspec": {
      "name": "python3",
      "display_name": "Python 3"
    },
    "language_info": {
      "name": "python"
    }
  },
  "cells": [
    {
      "cell_type": "code",
      "execution_count": 4,
      "metadata": {
        "colab": {
          "base_uri": "https://localhost:8080/"
        },
        "id": "-QgeUAhWGMuR",
        "outputId": "48f84630-c1d0-4fb0-d8ed-52ee4359b60c"
      },
      "outputs": [
        {
          "output_type": "stream",
          "name": "stdout",
          "text": [
            "=== Step 1: Initial Summary ===\n",
            "\n",
            "Artificial intelligence (AI) is transforming industries by automating intricate processes and enhancing decision-making speed while managing vast datasets. This technology drives innovation and boosts efficiency across various sectors. However, it also presents ethical concerns, including issues of bias, transparency, and the possibility of job displacement. These challenges highlight the need for careful consideration of AI's impact in society.\n",
            "\n",
            "=== Step 2: Critique ===\n",
            "\n",
            "While the summary provides a general overview of both the benefits and ethical concerns associated with artificial intelligence (AI) in various industries, it contains certain weaknesses and areas that could be better clarified or expanded upon:\n",
            "\n",
            "1. **Vague terminology**: The summary uses some quite general phrases like \"transforming industries,\" \"managing vast datasets,\" and \"drives innovation\" which do not specify exact mechanisms, applications, or examples of how AI achieves these feats. More concrete examples or specifics would help ground these claims, making the summary more informative and convincing.\n",
            "\n",
            "2. **Lack of specificity in applications**: Although it mentions that AI is beneficial across \"various sectors,\" it fails to specify which industries or provide examples, which leaves a gap in understanding the real-world impact of AI. Adding detail about particular sectors such as healthcare, finance, or automotive could enhance the richness of the information provided.\n",
            "\n",
            "3. **Ethical concerns are generalized**: The summary briefly touches on ethical issues like bias, transparency, and job displacement but does not delve into why these are significant issues or how they manifest within AI applications. A deeper exploration or a couple of examples illustrating these concerns could make the implications of AI more palpable and urgent for the reader.\n",
            "\n",
            "4. **Lack of mention of regulatory and control measures**: The summary indicates the need for \"careful consideration\" of AI's impact, but does not suggest who should be responsible or what actions might be taken to address these issues. Including a mention of existing or proposed regulations, standards, or frameworks for ethical AI use could provide a more complete picture of the societal landscape.\n",
            "\n",
            "5. **Underemphasis on pace of technology development**: The summary could do more to reflect on the rapid pace of AI development and the pressures it places on policy, governance, and public understanding. This is crucial for fully appreciating the scale and timeliness of the challenges posed.\n",
            "\n",
            "6. **Omission of challenges in AI development**: Beyond ethical concerns, the practical and technical challenges in developing and implementing AI (like data quality issues, integration into existing systems, or skilled personnel shortages) are also significant but not acknowledged in the summary.\n",
            "\n",
            "By addressing these points, the summary could provide a clearer, more detailed, and engaging overview of the current state of AI, its direct impacts, associated challenges, and probable future considerations.\n",
            "\n",
            "=== Step 3: Improved Summary ===\n",
            "\n",
            "Revised Summary: Artificial intelligence (AI) is revolutionizing multiple industries through specific applications, improving efficiency and decision-making processes. For instance, in healthcare, AI assists in diagnosing diseases with greater accuracy by analyzing medical images; in finance, it detects fraudulent transactions in real-time; and in the automotive sector, it powers the development of self-driving vehicles. These innovative uses handle enormous data volumes and enhance both speed and precision in critical operations.\n",
            "\n",
            "However, the deployment of AI raises significant ethical questions that need robust examination. Concerns include algorithmic bias, which can perpetuate inequality, lack of transparency in AI systems which complicates understanding of decision-making processes, and the potential for substantial job displacement across traditional roles, particularly affecting the middle-income bracket and manual labor sectors.\n",
            "\n",
            "Regulatory bodies and industry leaders must therefore work together to establish and enforce guidelines aimed at managing these issues. Standards such as those proposed by international tech governance organizations can help ensure that AI is used ethically and responsibly. \n",
            "\n",
            "Additionally, the rapid pace at which AI technology is advancing necessitates equally swift developments in policy and public understanding to address and adapt to resultant social and economic impacts promptly. Apart from ethical concerns, practical challenges such as ensuring high-quality data, integrating AI seamlessly into existing systems, and addressing the dearth of skilled AI professionals also play a critical role in the broader adoption and sustainable development of AI technologies.\n",
            "\n",
            "By providing a more concrete and detailed exploration of AI’s applications, implications, and the challenges it poses, this summary offers a comprehensive overview of both the immense benefits and the complex issues surrounding modern AI technologies.\n"
          ]
        }
      ],
      "source": [
        "# Step 0: Install OpenAI package (only needed once per Colab session)\n",
        "!pip install openai --quiet\n",
        "\n",
        "# Step 1: Import library\n",
        "from openai import OpenAI\n",
        "\n",
        "# Step 2: Initialize client\n",
        "client = OpenAI(api_key=\"yourapikey\")\n",
        "\n",
        "# Step 3: Define the paragraph to summarize\n",
        "paragraph = \"\"\"\n",
        "Artificial intelligence is reshaping industries by automating complex processes, increasing decision making time,\n",
        "and analyzing large amount of datasets. Although it promotes greater potential for innovation and efficiency,\n",
        "it also raises ethical concerns about bias, transparency, and job displacement.\n",
        "\"\"\"\n",
        "\n",
        "# Step 4: Step 1 — Generate a summary\n",
        "summary_prompt = f\"Summarize the following paragraph in 3-4 concise sentences:\\n\\n{paragraph}\"\n",
        "\n",
        "summary_response = client.chat.completions.create(\n",
        "    model=\"gpt-4-turbo\",\n",
        "    messages=[{\"role\": \"user\", \"content\": summary_prompt}]\n",
        ")\n",
        "summary = summary_response.choices[0].message.content\n",
        "\n",
        "print(\"=== Step 1: Initial Summary ===\\n\")\n",
        "print(summary)\n",
        "\n",
        "# Step 5: Step 2 — Critique the summary\n",
        "critique_prompt = f\"You wrote this summary:\\n\\n'{summary}'\\n\\nNow critique your own summary. Identify weaknesses, missing points, or unclear phrasing.\"\n",
        "\n",
        "critique_response = client.chat.completions.create(\n",
        "    model=\"gpt-4-turbo\",\n",
        "    messages=[{\"role\": \"user\", \"content\": critique_prompt}]\n",
        ")\n",
        "critique = critique_response.choices[0].message.content\n",
        "\n",
        "print(\"\\n=== Step 2: Critique ===\\n\")\n",
        "print(critique)\n",
        "\n",
        "# Step 6: Step 3 — Improve the summary based on critique\n",
        "improve_prompt = f\"Based on your critique below, rewrite the summary to make it clearer and more complete.\\n\\nCritique: {critique}\\n\\nOriginal Summary: {summary}\"\n",
        "\n",
        "improved_response = client.chat.completions.create(\n",
        "    model=\"gpt-4-turbo\",\n",
        "    messages=[{\"role\": \"user\", \"content\": improve_prompt}]\n",
        ")\n",
        "improved_summary = improved_response.choices[0].message.content\n",
        "\n",
        "print(\"\\n=== Step 3: Improved Summary ===\\n\")\n",
        "print(improved_summary)\n"
      ]
    }
  ]
}